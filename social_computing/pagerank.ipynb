{
 "cells": [
  {
   "cell_type": "code",
   "execution_count": 1,
   "metadata": {},
   "outputs": [],
   "source": [
    "import csv, networkx as nx, operator"
   ]
  },
  {
   "cell_type": "code",
   "execution_count": 2,
   "metadata": {},
   "outputs": [],
   "source": [
    "source = 'dolphins'"
   ]
  },
  {
   "cell_type": "code",
   "execution_count": 3,
   "metadata": {},
   "outputs": [],
   "source": [
    "graph = nx.Graph()\n",
    "reader = csv.reader(open(f'./PageRank/data/{source}.csv', 'r'), delimiter=',')\n",
    "data = [row for row in reader]\n",
    "\n",
    "nodes = set([row[0] for row in data])\n",
    "edges = [(row[0], row[2]) for row in data]\n",
    "num_nodes = len(nodes)\n",
    "s = 0.85\n",
    "initial_rank = 1/float(num_nodes)\n",
    "\n",
    "graph.add_nodes_from(nodes, rank=initial_rank)\n",
    "graph.add_edges_from(edges)\n",
    "pages = {} # 각 아이템은 다음과 같은 형식으로 값을 가진다. {page_id: [pagerank, neighbors]}\n",
    "\n",
    "for page_id, node in graph.nodes(data=True):\n",
    "    neighbors = graph.neighbors(page_id)\n",
    "    neighbors_ids = [neighbor for neighbor in neighbors]\n",
    "    value = [initial_rank, neighbors_ids]\n",
    "    pages[page_id] = value"
   ]
  },
  {
   "attachments": {},
   "cell_type": "markdown",
   "metadata": {},
   "source": [
    "# 맵 리듀스 방식으로 구현한 페이지 랭크 알고리즘"
   ]
  },
  {
   "cell_type": "code",
   "execution_count": 4,
   "metadata": {},
   "outputs": [],
   "source": [
    "def mapper(page_id, value):\n",
    "    neighbors = graph.neighbors(page_id)\n",
    "    outputs = [(page_id, value)]\n",
    "    # r_i / d_out(i) 계산\n",
    "    out_pagerank = value[0] / len(value[1])\n",
    "    for neighbor in neighbors:\n",
    "        outputs.append((neighbor, out_pagerank))\n",
    "    return outputs"
   ]
  },
  {
   "cell_type": "code",
   "execution_count": 5,
   "metadata": {},
   "outputs": [],
   "source": [
    "def reducer(page_id, values):\n",
    "    rank_sum = 0\n",
    "    output = [0, []]\n",
    "    for value in values:\n",
    "        if type(value) == list:\n",
    "            output = value\n",
    "        else:\n",
    "            rank_sum += value\n",
    "    # new pagerank 계산\n",
    "    output[0] = (1-s) * (1/num_nodes) + s*rank_sum\n",
    "    return (page_id, output)"
   ]
  },
  {
   "cell_type": "code",
   "execution_count": 6,
   "metadata": {},
   "outputs": [],
   "source": [
    "def map_reduce(dataset, mapper, reducer):\n",
    "    intermediate = []\n",
    "    for (key, value) in dataset.items():\n",
    "        intermediate.extend(mapper(key, value))\n",
    "\n",
    "    groups = {}\n",
    "    for (key, value) in intermediate:\n",
    "        if key not in groups:\n",
    "            groups[key] = []\n",
    "        groups[key].append(value)\n",
    "    output = {}\n",
    "\n",
    "    for (key, values) in groups.items():\n",
    "        (new_key, new_value) = reducer(key, values)\n",
    "        output[new_key] = new_value\n",
    "        \n",
    "    return output"
   ]
  },
  {
   "cell_type": "code",
   "execution_count": 7,
   "metadata": {},
   "outputs": [
    {
     "name": "stdout",
     "output_type": "stream",
     "text": [
      "('Grin', 0.03214349344215876)\n",
      "('Jet', 0.031729872609133285)\n",
      "('Trigger', 0.031298461173290625)\n",
      "('Web', 0.030097132110645918)\n",
      "('SN4', 0.02987447822639584)\n",
      "('Topless', 0.02951328555911399)\n",
      "('Scabs', 0.02842221290110614)\n",
      "('Patchback', 0.02645774552453914)\n",
      "('Gallatin', 0.026158554472606777)\n",
      "('Beescratch', 0.024651663857178114)\n"
     ]
    }
   ],
   "source": [
    "result = {}\n",
    "for i in range(30):\n",
    "    result = map_reduce(pages, mapper, reducer)\n",
    "\n",
    "ranks = {}\n",
    "for key, value in result.items():\n",
    "    ranks[key] = value[0]\n",
    "\n",
    "sorted_ranks = sorted(ranks.items(), key=operator.itemgetter(1), reverse=True)\n",
    "\n",
    "for i in range(min(10, len(ranks))):\n",
    "    print(sorted_ranks[i])"
   ]
  },
  {
   "attachments": {},
   "cell_type": "markdown",
   "metadata": {},
   "source": [
    "# Loop 방식으로 구현한 페이지 랭크 알고리즘"
   ]
  },
  {
   "cell_type": "code",
   "execution_count": 8,
   "metadata": {},
   "outputs": [],
   "source": [
    "V = num_nodes\n",
    "d = s\n",
    "for _ in range(10):\n",
    "    for key, node in graph.nodes(data=True):\n",
    "        rank_sum = 0.0\n",
    "        curr_rank = node.get('rank')\n",
    "        neighbors = graph[key]\n",
    "        for n in neighbors:\n",
    "            if ranks[n] is not None:\n",
    "                outlinks = len(list(graph.neighbors(n)))\n",
    "                rank_sum += (1 / float(outlinks)) * ranks[n]\n",
    "    \n",
    "        # actual page rank compution\n",
    "        ranks[key] = ((1 - float(d)) * (1/float(V))) + d*rank_sum"
   ]
  },
  {
   "cell_type": "code",
   "execution_count": 9,
   "metadata": {},
   "outputs": [
    {
     "name": "stdout",
     "output_type": "stream",
     "text": [
      "('Grin', 0.032144467799220436)\n",
      "('Jet', 0.03172817443472615)\n",
      "('Trigger', 0.03129933558066226)\n",
      "('Web', 0.030095411329659486)\n",
      "('SN4', 0.029875320707340957)\n",
      "('Topless', 0.029514184521112843)\n",
      "('Scabs', 0.028423051321498843)\n",
      "('Patchback', 0.02645852919569144)\n",
      "('Gallatin', 0.026156910346649482)\n",
      "('Beescratch', 0.02465074097276958)\n"
     ]
    }
   ],
   "source": [
    "sorted_ranks = sorted(ranks.items(), key=operator.itemgetter(1), reverse=True)\n",
    "\n",
    "for i in range(min(10, len(ranks))):\n",
    "    print(sorted_ranks[i])"
   ]
  },
  {
   "attachments": {},
   "cell_type": "markdown",
   "metadata": {},
   "source": [
    "두 방식이 같은 결과를 내는지 확인하였다. lesmis와 같이 약간의 값 차이는 있지만, 전체적인 순서는 동일함을 알 수 있다."
   ]
  },
  {
   "cell_type": "code",
   "execution_count": null,
   "metadata": {},
   "outputs": [],
   "source": []
  }
 ],
 "metadata": {
  "kernelspec": {
   "display_name": "social-computing (Python 3.8)",
   "language": "python",
   "name": "social-computing"
  },
  "language_info": {
   "codemirror_mode": {
    "name": "ipython",
    "version": 3
   },
   "file_extension": ".py",
   "mimetype": "text/x-python",
   "name": "python",
   "nbconvert_exporter": "python",
   "pygments_lexer": "ipython3",
   "version": "3.8.16"
  }
 },
 "nbformat": 4,
 "nbformat_minor": 4
}
